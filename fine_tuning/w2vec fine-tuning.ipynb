{
 "cells": [
  {
   "cell_type": "markdown",
   "metadata": {},
   "source": [
    "## Fine-tuning word2vec com gensim"
   ]
  },
  {
   "cell_type": "markdown",
   "metadata": {},
   "source": [
    "A proposta desse notebook é fazer o fine-tuning de vetores word2vec skip-gram de 300 dimensões obtidos pelo [NILC -USP](http://www.nilc.icmc.usp.br/embeddings). <br>\n",
    "O corpus utilizado são os livros Dom Casmurro e Memórias Postumas de Brás Cubas, disponíveis na biblioteca `nltk`."
   ]
  },
  {
   "cell_type": "markdown",
   "metadata": {},
   "source": [
    "Importando as bibliotecas necessárias"
   ]
  },
  {
   "cell_type": "code",
   "execution_count": 1,
   "metadata": {},
   "outputs": [],
   "source": [
    "from gensim.models import KeyedVectors, Word2Vec\n",
    "import nltk\n",
    "from nltk.text import Text\n",
    "from nltk.tokenize import word_tokenize, sent_tokenize\n",
    "from nltk.corpus import machado"
   ]
  },
  {
   "cell_type": "code",
   "execution_count": 2,
   "metadata": {
    "tags": []
   },
   "outputs": [
    {
     "name": "stderr",
     "output_type": "stream",
     "text": [
      "[nltk_data] Downloading package machado to /home/luisa/nltk_data...\n",
      "[nltk_data]   Package machado is already up-to-date!\n",
      "[nltk_data] Downloading package punkt to /home/luisa/nltk_data...\n",
      "[nltk_data]   Package punkt is already up-to-date!\n"
     ]
    },
    {
     "data": {
      "text/plain": [
       "True"
      ]
     },
     "execution_count": 2,
     "metadata": {},
     "output_type": "execute_result"
    }
   ],
   "source": [
    "nltk.download('machado')\n",
    "nltk.download('punkt')"
   ]
  },
  {
   "cell_type": "markdown",
   "metadata": {},
   "source": [
    "Obtendo o corpus"
   ]
  },
  {
   "cell_type": "code",
   "execution_count": 3,
   "metadata": {},
   "outputs": [],
   "source": [
    "memorias_postumas_de_bras_cubas = \" \".join(Text(machado.words('romance/marm05.txt'))[:])\n",
    "dom_casmurro = \" \".join(Text(machado.words('romance/marm08.txt'))[:])\n",
    "frases_mpbc = sent_tokenize(memorias_postumas_de_bras_cubas)\n",
    "frases_dc =  sent_tokenize(dom_casmurro)\n",
    "frases_token_mpbc = [word_tokenize(frase) for frase in frases_mpbc]\n",
    "frases_token_dc = [word_tokenize(frase) for frase in frases_dc]\n",
    "corpus_train = []\n",
    "corpora_machado = [frases_token_mpbc, frases_token_dc]\n",
    "for corpus in corpora_machado:\n",
    "    for frase in corpus:\n",
    "        clean = [w.lower() for w in frase]\n",
    "        corpus_train.append(clean)"
   ]
  },
  {
   "cell_type": "markdown",
   "metadata": {},
   "source": [
    "Carregando o modelo do NILC"
   ]
  },
  {
   "cell_type": "code",
   "execution_count": 4,
   "metadata": {},
   "outputs": [],
   "source": [
    "model = KeyedVectors.load_word2vec_format(\"skip_s300.txt\")"
   ]
  },
  {
   "cell_type": "markdown",
   "metadata": {},
   "source": [
    "Fazendo o Fine Tuning"
   ]
  },
  {
   "cell_type": "code",
   "execution_count": 5,
   "metadata": {},
   "outputs": [],
   "source": [
    "model_ft = Word2Vec(size=300)\n",
    "model_ft.build_vocab(corpus_train)\n",
    "total_examples = model_ft.corpus_count"
   ]
  },
  {
   "cell_type": "code",
   "execution_count": 6,
   "metadata": {
    "tags": []
   },
   "outputs": [
    {
     "name": "stdout",
     "output_type": "stream",
     "text": [
      "7581\n"
     ]
    }
   ],
   "source": [
    "print(total_examples)"
   ]
  },
  {
   "cell_type": "code",
   "execution_count": 7,
   "metadata": {},
   "outputs": [],
   "source": [
    "model_ft.intersect_word2vec_format(\"skip_s300.txt\")"
   ]
  },
  {
   "cell_type": "code",
   "execution_count": 8,
   "metadata": {},
   "outputs": [
    {
     "data": {
      "text/plain": [
       "(435150, 797085)"
      ]
     },
     "execution_count": 8,
     "metadata": {},
     "output_type": "execute_result"
    }
   ],
   "source": [
    "model_ft.train(corpus_train, total_examples=total_examples, epochs=5)"
   ]
  },
  {
   "cell_type": "code",
   "execution_count": 9,
   "metadata": {},
   "outputs": [],
   "source": [
    "model_ft.save(\"finetuned.model\")\n",
    "model_ft.wv.save_word2vec_format('finetuned_w2v.model')"
   ]
  },
  {
   "cell_type": "markdown",
   "metadata": {},
   "source": [
    "Verificando resultados"
   ]
  },
  {
   "cell_type": "code",
   "execution_count": 10,
   "metadata": {},
   "outputs": [
    {
     "data": {
      "text/plain": [
       "[('menina', 0.7241089940071106),\n",
       " ('mãe', 0.7074811458587646),\n",
       " ('garota', 0.671286404132843),\n",
       " ('prostituta', 0.66178959608078),\n",
       " ('rapariga', 0.6564629077911377),\n",
       " ('esposa', 0.6457226276397705),\n",
       " ('amiga', 0.6422991752624512),\n",
       " ('enteada', 0.6399168372154236),\n",
       " ('filha', 0.6370487213134766),\n",
       " ('companheira', 0.6313394904136658)]"
      ]
     },
     "execution_count": 10,
     "metadata": {},
     "output_type": "execute_result"
    }
   ],
   "source": [
    "model.most_similar('mulher')"
   ]
  },
  {
   "cell_type": "code",
   "execution_count": 11,
   "metadata": {
    "tags": []
   },
   "outputs": [
    {
     "data": {
      "text/plain": [
       "[('menina', 0.7241089940071106),\n",
       " ('mãe', 0.7074811458587646),\n",
       " ('esposa', 0.6457226276397705),\n",
       " ('amiga', 0.6422991752624512),\n",
       " ('filha', 0.6370487213134766),\n",
       " ('criança', 0.6304588317871094),\n",
       " ('moça', 0.6265702247619629),\n",
       " ('sobrinha', 0.6168275475502014),\n",
       " ('irmã', 0.6143003702163696),\n",
       " ('viúva', 0.6091774702072144)]"
      ]
     },
     "execution_count": 11,
     "metadata": {},
     "output_type": "execute_result"
    }
   ],
   "source": [
    "model_ft.wv.most_similar('mulher')"
   ]
  },
  {
   "cell_type": "code",
   "execution_count": 12,
   "metadata": {},
   "outputs": [
    {
     "data": {
      "text/plain": [
       "[('avô', 0.8674881458282471),\n",
       " ('pai', 0.8124756813049316),\n",
       " ('sobrinho', 0.8119102716445923),\n",
       " ('primo', 0.8070578575134277),\n",
       " ('irmão', 0.8021966218948364),\n",
       " ('sogro', 0.7897737622261047),\n",
       " ('bisavô', 0.7823960781097412),\n",
       " ('tio-avô', 0.7783960700035095),\n",
       " ('filho', 0.7690531611442566),\n",
       " ('meio-irmão', 0.7577237486839294)]"
      ]
     },
     "execution_count": 12,
     "metadata": {},
     "output_type": "execute_result"
    }
   ],
   "source": [
    "model.most_similar('tio')"
   ]
  },
  {
   "cell_type": "code",
   "execution_count": 13,
   "metadata": {
    "tags": []
   },
   "outputs": [
    {
     "data": {
      "text/plain": [
       "[('pai', 0.8124756813049316),\n",
       " ('irmão', 0.8021966218948364),\n",
       " ('filho', 0.7690531611442566),\n",
       " ('marido', 0.7246335744857788),\n",
       " ('cunhado', 0.7075005769729614),\n",
       " ('amigo', 0.6574914455413818),\n",
       " ('padrinho', 0.5977928638458252),\n",
       " ('finado', 0.591468870639801),\n",
       " ('parente', 0.5898088216781616),\n",
       " ('namorado', 0.5761942267417908)]"
      ]
     },
     "execution_count": 13,
     "metadata": {},
     "output_type": "execute_result"
    }
   ],
   "source": [
    "model_ft.wv.most_similar('tio')"
   ]
  },
  {
   "cell_type": "code",
   "execution_count": 14,
   "metadata": {},
   "outputs": [
    {
     "data": {
      "text/plain": [
       "[('virgília', 0.7068570852279663),\n",
       " ('souvanel', 0.6866049766540527),\n",
       " ('dusá', 0.6700954437255859),\n",
       " ('inesita', 0.66921466588974),\n",
       " ('honorina', 0.667019248008728),\n",
       " ('vexada', 0.6529178619384766),\n",
       " ('fidélia', 0.6497822999954224),\n",
       " ('antonica', 0.6490815877914429),\n",
       " ('iaiá', 0.6445469856262207),\n",
       " ('quintília', 0.6438143253326416)]"
      ]
     },
     "execution_count": 14,
     "metadata": {},
     "output_type": "execute_result"
    }
   ],
   "source": [
    "model.most_similar('capitu')"
   ]
  },
  {
   "cell_type": "code",
   "execution_count": 15,
   "metadata": {
    "tags": []
   },
   "outputs": [
    {
     "data": {
      "text/plain": [
       "[('virgília', 0.7068570852279663),\n",
       " ('iaiá', 0.6445469856262207),\n",
       " ('sinhazinha', 0.6377354860305786),\n",
       " ('vexado', 0.5785528421401978),\n",
       " ('confidência', 0.5704492926597595),\n",
       " ('risonha', 0.5533011555671692),\n",
       " ('acudi', 0.5465798377990723),\n",
       " ('aflita', 0.5226832628250122),\n",
       " ('plácida', 0.519793689250946),\n",
       " ('suspirou', 0.5121995210647583)]"
      ]
     },
     "execution_count": 15,
     "metadata": {},
     "output_type": "execute_result"
    }
   ],
   "source": [
    "model_ft.wv.most_similar('capitu')"
   ]
  }
 ],
 "metadata": {
  "kernelspec": {
   "display_name": "gensim2",
   "language": "python",
   "name": "gensim2"
  },
  "language_info": {
   "codemirror_mode": {
    "name": "ipython",
    "version": 3
   },
   "file_extension": ".py",
   "mimetype": "text/x-python",
   "name": "python",
   "nbconvert_exporter": "python",
   "pygments_lexer": "ipython3",
   "version": "3.6.5"
  }
 },
 "nbformat": 4,
 "nbformat_minor": 4
}
